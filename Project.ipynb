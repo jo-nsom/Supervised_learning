{
 "cells": [
  {
   "cell_type": "markdown",
   "metadata": {
    "pycharm": {
     "name": "#%% md\n"
    },
    "toc": true
   },
   "source": [
    "<h1>Содержание<span class=\"tocSkip\"></span></h1>\n",
    "<div class=\"toc\"><ul class=\"toc-item\"><li><ul class=\"toc-item\"><li><span><a href=\"#Данные\" data-toc-modified-id=\"Данные-0.1\"><span class=\"toc-item-num\">0.1&nbsp;&nbsp;</span>Данные</a></span></li></ul></li><li><span><a href=\"#1-Подготовка-данных\" data-toc-modified-id=\"1-Подготовка-данных-1\"><span class=\"toc-item-num\">1&nbsp;&nbsp;</span>1 Подготовка данных</a></span><ul class=\"toc-item\"><li><ul class=\"toc-item\"><li><span><a href=\"#1.1-Импорт-модулей\" data-toc-modified-id=\"1.1-Импорт-модулей-1.0.1\"><span class=\"toc-item-num\">1.0.1&nbsp;&nbsp;</span>1.1 Импорт модулей</a></span></li><li><span><a href=\"#1.2-Данные-о-клиентах-поместим-в-переменную-data\" data-toc-modified-id=\"1.2-Данные-о-клиентах-поместим-в-переменную-data-1.0.2\"><span class=\"toc-item-num\">1.0.2&nbsp;&nbsp;</span>1.2 Данные о клиентах поместим в переменную <code>data</code></a></span></li><li><span><a href=\"#1.3-Общая-информация\" data-toc-modified-id=\"1.3-Общая-информация-1.0.3\"><span class=\"toc-item-num\">1.0.3&nbsp;&nbsp;</span>1.3 Общая информация</a></span></li><li><span><a href=\"#1.4-Неявные-дубликаты\" data-toc-modified-id=\"1.4-Неявные-дубликаты-1.0.4\"><span class=\"toc-item-num\">1.0.4&nbsp;&nbsp;</span>1.4 Неявные дубликаты</a></span></li><li><span><a href=\"#1.5-Явные-дубликаты\" data-toc-modified-id=\"1.5-Явные-дубликаты-1.0.5\"><span class=\"toc-item-num\">1.0.5&nbsp;&nbsp;</span>1.5 Явные дубликаты</a></span></li><li><span><a href=\"#1.6-Пропуски\" data-toc-modified-id=\"1.6-Пропуски-1.0.6\"><span class=\"toc-item-num\">1.0.6&nbsp;&nbsp;</span>1.6 Пропуски</a></span></li><li><span><a href=\"#1.7-Уходящие-клиенты\" data-toc-modified-id=\"1.7-Уходящие-клиенты-1.0.7\"><span class=\"toc-item-num\">1.0.7&nbsp;&nbsp;</span>1.7 Уходящие клиенты</a></span></li><li><span><a href=\"#1.8-Аномалии\" data-toc-modified-id=\"1.8-Аномалии-1.0.8\"><span class=\"toc-item-num\">1.0.8&nbsp;&nbsp;</span>1.8 Аномалии</a></span></li></ul></li></ul></li><li><span><a href=\"#2-Исследование-задачи\" data-toc-modified-id=\"2-Исследование-задачи-2\"><span class=\"toc-item-num\">2&nbsp;&nbsp;</span>2 Исследование задачи</a></span><ul class=\"toc-item\"><li><ul class=\"toc-item\"><li><span><a href=\"#2.1-Категориальные-значение-в-количественные-(создание-функции)\" data-toc-modified-id=\"2.1-Категориальные-значение-в-количественные-(создание-функции)-2.0.1\"><span class=\"toc-item-num\">2.0.1&nbsp;&nbsp;</span>2.1 Категориальные значение в количественные (создание функции)</a></span></li><li><span><a href=\"#2.2-Разделим-данные-для-обучение-и-тестирования\" data-toc-modified-id=\"2.2-Разделим-данные-для-обучение-и-тестирования-2.0.2\"><span class=\"toc-item-num\">2.0.2&nbsp;&nbsp;</span>2.2 Разделим данные для обучение и тестирования</a></span></li><li><span><a href=\"#2.3-Финальное-кодирование\" data-toc-modified-id=\"2.3-Финальное-кодирование-2.0.3\"><span class=\"toc-item-num\">2.0.3&nbsp;&nbsp;</span>2.3 Финальное кодирование</a></span></li><li><span><a href=\"#2.4-Подбор-модели\" data-toc-modified-id=\"2.4-Подбор-модели-2.0.4\"><span class=\"toc-item-num\">2.0.4&nbsp;&nbsp;</span>2.4 Подбор модели</a></span></li></ul></li></ul></li><li><span><a href=\"#3-Борьба-с-дисбалансом\" data-toc-modified-id=\"3-Борьба-с-дисбалансом-3\"><span class=\"toc-item-num\">3&nbsp;&nbsp;</span>3 Борьба с дисбалансом</a></span><ul class=\"toc-item\"><li><ul class=\"toc-item\"><li><span><a href=\"#3.1-Upsampling\" data-toc-modified-id=\"3.1-Upsampling-3.0.1\"><span class=\"toc-item-num\">3.0.1&nbsp;&nbsp;</span>3.1 Upsampling</a></span></li><li><span><a href=\"#3.2-Downsampling\" data-toc-modified-id=\"3.2-Downsampling-3.0.2\"><span class=\"toc-item-num\">3.0.2&nbsp;&nbsp;</span>3.2 Downsampling</a></span></li></ul></li></ul></li><li><span><a href=\"#4-Тестирование-модели\" data-toc-modified-id=\"4-Тестирование-модели-4\"><span class=\"toc-item-num\">4&nbsp;&nbsp;</span>4 Тестирование модели</a></span><ul class=\"toc-item\"><li><ul class=\"toc-item\"><li><span><a href=\"#Дополнительно:-метрикa-AUC-ROC\" data-toc-modified-id=\"Дополнительно:-метрикa-AUC-ROC-4.0.1\"><span class=\"toc-item-num\">4.0.1&nbsp;&nbsp;</span>Дополнительно: метрикa <code>AUC-ROC</code></a></span></li></ul></li></ul></li><li><span><a href=\"#Итог\" data-toc-modified-id=\"Итог-5\"><span class=\"toc-item-num\">5&nbsp;&nbsp;</span>Итог</a></span></li></ul></div>"
   ]
  },
  {
   "cell_type": "markdown",
   "metadata": {
    "pycharm": {
     "name": "#%% md\n"
    }
   },
   "source": [
    "# Отток клиентов"
   ]
  },
  {
   "cell_type": "markdown",
   "metadata": {
    "pycharm": {
     "name": "#%% md\n"
    }
   },
   "source": [
    "Из «Бета-Банка» стали уходить клиенты. Каждый месяц. Немного, но заметно. Банковские маркетологи посчитали: сохранять текущих клиентов дешевле, чем привлекать новых.\n",
    "\n",
    "Нужно спрогнозировать, уйдёт клиент из банка в ближайшее время или нет. Вам предоставлены исторические данные о поведении клиентов и расторжении договоров с банком. \n",
    "\n",
    "Постройте модель с предельно большим значением *F1*-меры. Чтобы сдать проект успешно, нужно довести метрику до 0.59. Проверьте *F1*-меру на тестовой выборке самостоятельно.\n",
    "\n",
    "Дополнительно измеряйте *AUC-ROC*, сравнивайте её значение с *F1*-мерой.\n",
    "\n",
    "Источник данных: [https://www.kaggle.com/barelydedicated/bank-customer-churn-modeling](https://www.kaggle.com/barelydedicated/bank-customer-churn-modeling)"
   ]
  },
  {
   "cell_type": "markdown",
   "metadata": {
    "pycharm": {
     "name": "#%% md\n"
    }
   },
   "source": [
    "### Данные \n",
    "\n",
    "**Признаки:**\n",
    "- `RowNumber` — индекс строки в данных;\n",
    "- `CustomerId` — уникальный идентификатор клиента ; \n",
    "- `Surname` — фамилия;  \n",
    "- `CreditScore` — кредитный рейтинг;\n",
    "- `Geography` — страна проживания;\n",
    "- `Gender` — пол;\n",
    "- `Age` — возраст;\n",
    "- `Tenure` — сколько лет человек является клиентом банка;\n",
    "- `Balance` — баланс на счёте;\n",
    "- `NumOfProducts` — количество продуктов банка, используемых клиентом;\n",
    "- `HasCrCard` — наличие кредитной карты;\n",
    "- `IsActiveMember` — активность клиента;\n",
    "- `EstimatedSalary` — предполагаемая зарплата;  \n",
    "\n",
    "**Целевой признак:**\n",
    "- `Exited` — факт ухода клиента."
   ]
  },
  {
   "cell_type": "markdown",
   "metadata": {
    "pycharm": {
     "name": "#%% md\n"
    }
   },
   "source": [
    "## 1 Подготовка данных"
   ]
  },
  {
   "cell_type": "markdown",
   "metadata": {
    "pycharm": {
     "name": "#%% md\n"
    }
   },
   "source": [
    "#### 1.1 Импорт модулей"
   ]
  },
  {
   "cell_type": "code",
   "execution_count": 241,
   "metadata": {
    "pycharm": {
     "name": "#%%\n"
    }
   },
   "outputs": [],
   "source": [
    "import pandas as pd\n",
    "\n",
    "from sklearn.utils import shuffle\n",
    "from sklearn.metrics import f1_score, roc_auc_score, roc_curve, accuracy_score\n",
    "from sklearn.preprocessing import OneHotEncoder, StandardScaler\n",
    "from sklearn.model_selection import train_test_split\n",
    "from sklearn.tree import DecisionTreeClassifier\n",
    "from sklearn.ensemble import RandomForestClassifier\n",
    "from sklearn.linear_model import LogisticRegression\n",
    "\n",
    "import matplotlib.pyplot as plt"
   ]
  },
  {
   "cell_type": "code",
   "execution_count": 242,
   "metadata": {
    "pycharm": {
     "name": "#%%\n"
    }
   },
   "outputs": [],
   "source": [
    "import warnings\n",
    "warnings.filterwarnings(\"ignore\")"
   ]
  },
  {
   "cell_type": "markdown",
   "metadata": {
    "pycharm": {
     "name": "#%% md\n"
    }
   },
   "source": [
    "#### 1.2 Данные о клиентах поместим в переменную `data`"
   ]
  },
  {
   "cell_type": "code",
   "execution_count": 243,
   "metadata": {
    "pycharm": {
     "name": "#%%\n"
    }
   },
   "outputs": [],
   "source": [
    "try:\n",
    "    data = pd.read_csv('/datasets/Churn.csv')\n",
    "except:\n",
    "    data = pd.read_csv('Churn.csv')"
   ]
  },
  {
   "cell_type": "markdown",
   "metadata": {
    "pycharm": {
     "name": "#%% md\n"
    }
   },
   "source": [
    "#### 1.3 Общая информация"
   ]
  },
  {
   "cell_type": "code",
   "execution_count": 244,
   "metadata": {
    "pycharm": {
     "name": "#%%\n"
    }
   },
   "outputs": [
    {
     "name": "stdout",
     "output_type": "stream",
     "text": [
      "<class 'pandas.core.frame.DataFrame'>\n",
      "RangeIndex: 10000 entries, 0 to 9999\n",
      "Data columns (total 14 columns):\n",
      " #   Column           Non-Null Count  Dtype  \n",
      "---  ------           --------------  -----  \n",
      " 0   RowNumber        10000 non-null  int64  \n",
      " 1   CustomerId       10000 non-null  int64  \n",
      " 2   Surname          10000 non-null  object \n",
      " 3   CreditScore      10000 non-null  int64  \n",
      " 4   Geography        10000 non-null  object \n",
      " 5   Gender           10000 non-null  object \n",
      " 6   Age              10000 non-null  int64  \n",
      " 7   Tenure           9091 non-null   float64\n",
      " 8   Balance          10000 non-null  float64\n",
      " 9   NumOfProducts    10000 non-null  int64  \n",
      " 10  HasCrCard        10000 non-null  int64  \n",
      " 11  IsActiveMember   10000 non-null  int64  \n",
      " 12  EstimatedSalary  10000 non-null  float64\n",
      " 13  Exited           10000 non-null  int64  \n",
      "dtypes: float64(3), int64(8), object(3)\n",
      "memory usage: 1.1+ MB\n"
     ]
    }
   ],
   "source": [
    "data.info()"
   ]
  },
  {
   "cell_type": "markdown",
   "metadata": {
    "pycharm": {
     "name": "#%% md\n"
    }
   },
   "source": [
    "С типом данных проблем нет"
   ]
  },
  {
   "cell_type": "markdown",
   "metadata": {
    "pycharm": {
     "name": "#%% md\n"
    }
   },
   "source": [
    "#### 1.4 Неявные дубликаты"
   ]
  },
  {
   "cell_type": "code",
   "execution_count": 245,
   "metadata": {
    "pycharm": {
     "name": "#%%\n"
    }
   },
   "outputs": [
    {
     "name": "stdout",
     "output_type": "stream",
     "text": [
      "Surname ['Hargrave' 'Hill' 'Onio' ... 'Kashiwagi' 'Aldridge' 'Burbidge']\n",
      "Geography ['France' 'Spain' 'Germany']\n",
      "Gender ['Female' 'Male']\n"
     ]
    }
   ],
   "source": [
    "# категориальные признаки\n",
    "categorical_col = ['Surname', 'Geography', 'Gender']\n",
    "\n",
    "for col in categorical_col:\n",
    "    print(col, data[col].unique())"
   ]
  },
  {
   "cell_type": "code",
   "execution_count": 246,
   "metadata": {
    "pycharm": {
     "name": "#%%\n"
    }
   },
   "outputs": [],
   "source": [
    "# для подстраховки приведем фамилии к одному формату\n",
    "data['Surname'] = data['Surname'].str.title()"
   ]
  },
  {
   "cell_type": "markdown",
   "metadata": {
    "pycharm": {
     "name": "#%% md\n"
    }
   },
   "source": [
    "#### 1.5 Явные дубликаты"
   ]
  },
  {
   "cell_type": "code",
   "execution_count": 247,
   "metadata": {
    "pycharm": {
     "name": "#%%\n"
    }
   },
   "outputs": [
    {
     "data": {
      "text/plain": [
       "0"
      ]
     },
     "execution_count": 247,
     "metadata": {},
     "output_type": "execute_result"
    }
   ],
   "source": [
    "data.duplicated().sum()"
   ]
  },
  {
   "cell_type": "markdown",
   "metadata": {
    "pycharm": {
     "name": "#%% md\n"
    }
   },
   "source": [
    "#### 1.6 Пропуски"
   ]
  },
  {
   "cell_type": "code",
   "execution_count": 248,
   "metadata": {
    "pycharm": {
     "name": "#%%\n"
    }
   },
   "outputs": [
    {
     "data": {
      "text/plain": [
       "RowNumber            0\n",
       "CustomerId           0\n",
       "Surname              0\n",
       "CreditScore          0\n",
       "Geography            0\n",
       "Gender               0\n",
       "Age                  0\n",
       "Tenure             909\n",
       "Balance              0\n",
       "NumOfProducts        0\n",
       "HasCrCard            0\n",
       "IsActiveMember       0\n",
       "EstimatedSalary      0\n",
       "Exited               0\n",
       "dtype: int64"
      ]
     },
     "execution_count": 248,
     "metadata": {},
     "output_type": "execute_result"
    }
   ],
   "source": [
    "data.isna().sum()"
   ]
  },
  {
   "cell_type": "code",
   "execution_count": 249,
   "metadata": {
    "pycharm": {
     "name": "#%%\n"
    }
   },
   "outputs": [
    {
     "data": {
      "text/html": [
       "<div>\n",
       "<style scoped>\n",
       "    .dataframe tbody tr th:only-of-type {\n",
       "        vertical-align: middle;\n",
       "    }\n",
       "\n",
       "    .dataframe tbody tr th {\n",
       "        vertical-align: top;\n",
       "    }\n",
       "\n",
       "    .dataframe thead th {\n",
       "        text-align: right;\n",
       "    }\n",
       "</style>\n",
       "<table border=\"1\" class=\"dataframe\">\n",
       "  <thead>\n",
       "    <tr style=\"text-align: right;\">\n",
       "      <th></th>\n",
       "      <th>RowNumber</th>\n",
       "      <th>CustomerId</th>\n",
       "      <th>Surname</th>\n",
       "      <th>CreditScore</th>\n",
       "      <th>Geography</th>\n",
       "      <th>Gender</th>\n",
       "      <th>Age</th>\n",
       "      <th>Tenure</th>\n",
       "      <th>Balance</th>\n",
       "      <th>NumOfProducts</th>\n",
       "      <th>HasCrCard</th>\n",
       "      <th>IsActiveMember</th>\n",
       "      <th>EstimatedSalary</th>\n",
       "      <th>Exited</th>\n",
       "    </tr>\n",
       "  </thead>\n",
       "  <tbody>\n",
       "    <tr>\n",
       "      <th>8492</th>\n",
       "      <td>8493</td>\n",
       "      <td>15804104</td>\n",
       "      <td>Romani</td>\n",
       "      <td>494</td>\n",
       "      <td>France</td>\n",
       "      <td>Male</td>\n",
       "      <td>28</td>\n",
       "      <td>NaN</td>\n",
       "      <td>114731.76</td>\n",
       "      <td>2</td>\n",
       "      <td>0</td>\n",
       "      <td>1</td>\n",
       "      <td>79479.74</td>\n",
       "      <td>0</td>\n",
       "    </tr>\n",
       "    <tr>\n",
       "      <th>2568</th>\n",
       "      <td>2569</td>\n",
       "      <td>15775905</td>\n",
       "      <td>Moore</td>\n",
       "      <td>612</td>\n",
       "      <td>Germany</td>\n",
       "      <td>Female</td>\n",
       "      <td>47</td>\n",
       "      <td>NaN</td>\n",
       "      <td>130024.87</td>\n",
       "      <td>1</td>\n",
       "      <td>1</td>\n",
       "      <td>1</td>\n",
       "      <td>45750.21</td>\n",
       "      <td>1</td>\n",
       "    </tr>\n",
       "    <tr>\n",
       "      <th>5439</th>\n",
       "      <td>5440</td>\n",
       "      <td>15582168</td>\n",
       "      <td>Muravyova</td>\n",
       "      <td>713</td>\n",
       "      <td>Germany</td>\n",
       "      <td>Female</td>\n",
       "      <td>61</td>\n",
       "      <td>NaN</td>\n",
       "      <td>149525.34</td>\n",
       "      <td>2</td>\n",
       "      <td>1</td>\n",
       "      <td>0</td>\n",
       "      <td>123663.63</td>\n",
       "      <td>0</td>\n",
       "    </tr>\n",
       "    <tr>\n",
       "      <th>8813</th>\n",
       "      <td>8814</td>\n",
       "      <td>15770375</td>\n",
       "      <td>Fanucci</td>\n",
       "      <td>850</td>\n",
       "      <td>Germany</td>\n",
       "      <td>Female</td>\n",
       "      <td>26</td>\n",
       "      <td>NaN</td>\n",
       "      <td>123126.29</td>\n",
       "      <td>1</td>\n",
       "      <td>1</td>\n",
       "      <td>0</td>\n",
       "      <td>74425.41</td>\n",
       "      <td>0</td>\n",
       "    </tr>\n",
       "    <tr>\n",
       "      <th>6237</th>\n",
       "      <td>6238</td>\n",
       "      <td>15778897</td>\n",
       "      <td>Cartwright</td>\n",
       "      <td>630</td>\n",
       "      <td>France</td>\n",
       "      <td>Female</td>\n",
       "      <td>28</td>\n",
       "      <td>NaN</td>\n",
       "      <td>0.00</td>\n",
       "      <td>2</td>\n",
       "      <td>1</td>\n",
       "      <td>1</td>\n",
       "      <td>133267.78</td>\n",
       "      <td>0</td>\n",
       "    </tr>\n",
       "    <tr>\n",
       "      <th>942</th>\n",
       "      <td>943</td>\n",
       "      <td>15804586</td>\n",
       "      <td>Lin</td>\n",
       "      <td>376</td>\n",
       "      <td>France</td>\n",
       "      <td>Female</td>\n",
       "      <td>46</td>\n",
       "      <td>NaN</td>\n",
       "      <td>0.00</td>\n",
       "      <td>1</td>\n",
       "      <td>1</td>\n",
       "      <td>0</td>\n",
       "      <td>157333.69</td>\n",
       "      <td>1</td>\n",
       "    </tr>\n",
       "    <tr>\n",
       "      <th>4079</th>\n",
       "      <td>4080</td>\n",
       "      <td>15694601</td>\n",
       "      <td>Ankudinov</td>\n",
       "      <td>583</td>\n",
       "      <td>France</td>\n",
       "      <td>Female</td>\n",
       "      <td>31</td>\n",
       "      <td>NaN</td>\n",
       "      <td>158978.79</td>\n",
       "      <td>1</td>\n",
       "      <td>1</td>\n",
       "      <td>0</td>\n",
       "      <td>12538.92</td>\n",
       "      <td>0</td>\n",
       "    </tr>\n",
       "    <tr>\n",
       "      <th>2392</th>\n",
       "      <td>2393</td>\n",
       "      <td>15656912</td>\n",
       "      <td>Aitken</td>\n",
       "      <td>649</td>\n",
       "      <td>Spain</td>\n",
       "      <td>Male</td>\n",
       "      <td>51</td>\n",
       "      <td>NaN</td>\n",
       "      <td>0.00</td>\n",
       "      <td>1</td>\n",
       "      <td>1</td>\n",
       "      <td>1</td>\n",
       "      <td>150390.57</td>\n",
       "      <td>0</td>\n",
       "    </tr>\n",
       "    <tr>\n",
       "      <th>6732</th>\n",
       "      <td>6733</td>\n",
       "      <td>15718588</td>\n",
       "      <td>Meng</td>\n",
       "      <td>548</td>\n",
       "      <td>France</td>\n",
       "      <td>Female</td>\n",
       "      <td>37</td>\n",
       "      <td>NaN</td>\n",
       "      <td>0.00</td>\n",
       "      <td>2</td>\n",
       "      <td>0</td>\n",
       "      <td>0</td>\n",
       "      <td>98029.58</td>\n",
       "      <td>0</td>\n",
       "    </tr>\n",
       "    <tr>\n",
       "      <th>8679</th>\n",
       "      <td>8680</td>\n",
       "      <td>15753092</td>\n",
       "      <td>He</td>\n",
       "      <td>791</td>\n",
       "      <td>Germany</td>\n",
       "      <td>Male</td>\n",
       "      <td>35</td>\n",
       "      <td>NaN</td>\n",
       "      <td>129828.58</td>\n",
       "      <td>1</td>\n",
       "      <td>1</td>\n",
       "      <td>1</td>\n",
       "      <td>181918.26</td>\n",
       "      <td>1</td>\n",
       "    </tr>\n",
       "  </tbody>\n",
       "</table>\n",
       "</div>"
      ],
      "text/plain": [
       "      RowNumber  CustomerId     Surname  CreditScore Geography  Gender  Age  \\\n",
       "8492       8493    15804104      Romani          494    France    Male   28   \n",
       "2568       2569    15775905       Moore          612   Germany  Female   47   \n",
       "5439       5440    15582168   Muravyova          713   Germany  Female   61   \n",
       "8813       8814    15770375     Fanucci          850   Germany  Female   26   \n",
       "6237       6238    15778897  Cartwright          630    France  Female   28   \n",
       "942         943    15804586         Lin          376    France  Female   46   \n",
       "4079       4080    15694601   Ankudinov          583    France  Female   31   \n",
       "2392       2393    15656912      Aitken          649     Spain    Male   51   \n",
       "6732       6733    15718588        Meng          548    France  Female   37   \n",
       "8679       8680    15753092          He          791   Germany    Male   35   \n",
       "\n",
       "      Tenure    Balance  NumOfProducts  HasCrCard  IsActiveMember  \\\n",
       "8492     NaN  114731.76              2          0               1   \n",
       "2568     NaN  130024.87              1          1               1   \n",
       "5439     NaN  149525.34              2          1               0   \n",
       "8813     NaN  123126.29              1          1               0   \n",
       "6237     NaN       0.00              2          1               1   \n",
       "942      NaN       0.00              1          1               0   \n",
       "4079     NaN  158978.79              1          1               0   \n",
       "2392     NaN       0.00              1          1               1   \n",
       "6732     NaN       0.00              2          0               0   \n",
       "8679     NaN  129828.58              1          1               1   \n",
       "\n",
       "      EstimatedSalary  Exited  \n",
       "8492         79479.74       0  \n",
       "2568         45750.21       1  \n",
       "5439        123663.63       0  \n",
       "8813         74425.41       0  \n",
       "6237        133267.78       0  \n",
       "942         157333.69       1  \n",
       "4079         12538.92       0  \n",
       "2392        150390.57       0  \n",
       "6732         98029.58       0  \n",
       "8679        181918.26       1  "
      ]
     },
     "execution_count": 249,
     "metadata": {},
     "output_type": "execute_result"
    }
   ],
   "source": [
    "# есть ли взаимосвзяь пропусков в колонке Tenure\n",
    "data[data['Tenure'].isna()].sample(10)"
   ]
  },
  {
   "cell_type": "code",
   "execution_count": 250,
   "metadata": {
    "pycharm": {
     "name": "#%%\n"
    }
   },
   "outputs": [
    {
     "data": {
      "image/png": "[encoded data removed]",
      "text/plain": [
       "<Figure size 400x300 with 1 Axes>"
      ]
     },
     "metadata": {},
     "output_type": "display_data"
    }
   ],
   "source": [
    "data['Tenure'].hist(figsize=(4, 3));"
   ]
  },
  {
   "cell_type": "markdown",
   "metadata": {
    "pycharm": {
     "name": "#%% md\n"
    }
   },
   "source": [
    "Пропуски в `Tenure` заполним средним значением"
   ]
  },
  {
   "cell_type": "code",
   "execution_count": 251,
   "metadata": {
    "pycharm": {
     "name": "#%%\n"
    }
   },
   "outputs": [],
   "source": [
    "data.loc[data['Tenure'].isna(), 'Tenure'] = data['Tenure'].mean()"
   ]
  },
  {
   "cell_type": "markdown",
   "metadata": {
    "pycharm": {
     "name": "#%% md\n"
    }
   },
   "source": [
    "#### 1.7 Уходящие клиенты"
   ]
  },
  {
   "cell_type": "code",
   "execution_count": 252,
   "metadata": {
    "pycharm": {
     "name": "#%%\n"
    },
    "scrolled": true
   },
   "outputs": [
    {
     "data": {
      "image/png": "[encoded data removed]",
      "text/plain": [
       "<Figure size 1200x1000 with 9 Axes>"
      ]
     },
     "metadata": {},
     "output_type": "display_data"
    }
   ],
   "source": [
    "interesting_features = ['CreditScore', 'Age', 'Balance', 'HasCrCard', 'IsActiveMember', 'EstimatedSalary', 'NumOfProducts']\n",
    "data.loc[data['Exited'] == 1, interesting_features].hist(figsize=(12, 10), bins=30);"
   ]
  },
  {
   "cell_type": "markdown",
   "metadata": {
    "pycharm": {
     "name": "#%% md\n"
    }
   },
   "source": [
    "#### 1.8 Аномалии"
   ]
  },
  {
   "cell_type": "code",
   "execution_count": 253,
   "metadata": {
    "pycharm": {
     "name": "#%%\n"
    },
    "scrolled": true
   },
   "outputs": [
    {
     "data": {
      "image/png": "[encoded data removed]",
      "text/plain": [
       "<Figure size 1200x1000 with 12 Axes>"
      ]
     },
     "metadata": {},
     "output_type": "display_data"
    }
   ],
   "source": [
    "data.hist(figsize=(12, 10), bins=30);"
   ]
  },
  {
   "cell_type": "markdown",
   "metadata": {
    "pycharm": {
     "name": "#%% md\n"
    }
   },
   "source": [
    "`Balance` - много значений в районе нуля."
   ]
  },
  {
   "cell_type": "code",
   "execution_count": 254,
   "metadata": {
    "pycharm": {
     "name": "#%%\n"
    }
   },
   "outputs": [
    {
     "data": {
      "text/plain": [
       "0.00       3617\n",
       "3768.69       1\n",
       "Name: Balance, dtype: int64"
      ]
     },
     "execution_count": 254,
     "metadata": {},
     "output_type": "execute_result"
    }
   ],
   "source": [
    "data.loc[data['Balance'] < 10_000, 'Balance'].value_counts()"
   ]
  },
  {
   "cell_type": "code",
   "execution_count": 255,
   "metadata": {
    "pycharm": {
     "name": "#%%\n"
    }
   },
   "outputs": [
    {
     "data": {
      "text/plain": [
       "0.3617"
      ]
     },
     "execution_count": 255,
     "metadata": {},
     "output_type": "execute_result"
    }
   ],
   "source": [
    "# доля людей с нулевым балансом\n",
    "(data['Balance'] == 0).sum() / len(data)"
   ]
  },
  {
   "cell_type": "markdown",
   "metadata": {
    "pycharm": {
     "name": "#%% md\n"
    }
   },
   "source": [
    "36% людей с нулевым балансом. Почему так много? Не пользуются картой? Готовятся уйти из банка?"
   ]
  },
  {
   "cell_type": "code",
   "execution_count": 256,
   "metadata": {
    "pycharm": {
     "name": "#%%\n"
    }
   },
   "outputs": [
    {
     "data": {
      "text/plain": [
       "1744"
      ]
     },
     "execution_count": 256,
     "metadata": {},
     "output_type": "execute_result"
    }
   ],
   "source": [
    "len(data.query('Balance == 0 and IsActiveMember == 0'))"
   ]
  },
  {
   "cell_type": "markdown",
   "metadata": {
    "pycharm": {
     "name": "#%% md\n"
    }
   },
   "source": [
    "Около половины клиентов банка с нулевым банасом не проявляют активности. Сложно предсказать повидение таких клиентов."
   ]
  },
  {
   "cell_type": "code",
   "execution_count": 257,
   "metadata": {
    "pycharm": {
     "name": "#%%\n"
    }
   },
   "outputs": [
    {
     "data": {
      "text/plain": [
       "0    3117\n",
       "1     500\n",
       "Name: Exited, dtype: int64"
      ]
     },
     "execution_count": 257,
     "metadata": {},
     "output_type": "execute_result"
    }
   ],
   "source": [
    "data.loc[data['Balance'] == 0, 'Exited'].value_counts()"
   ]
  },
  {
   "cell_type": "code",
   "execution_count": 258,
   "metadata": {
    "pycharm": {
     "name": "#%%\n"
    }
   },
   "outputs": [
    {
     "data": {
      "text/plain": [
       "0    4846\n",
       "1    1537\n",
       "Name: Exited, dtype: int64"
      ]
     },
     "execution_count": 258,
     "metadata": {},
     "output_type": "execute_result"
    }
   ],
   "source": [
    "data.loc[data['Balance'] > 0, 'Exited'].value_counts()"
   ]
  },
  {
   "cell_type": "markdown",
   "metadata": {
    "pycharm": {
     "name": "#%% md\n"
    }
   },
   "source": [
    "<span style=\"color:gray\">\n",
    "14% - доля ушедших из банка с нулевым балнсом.  <br>\n",
    "24% - доля ушедших из банка с НЕ нулевым балансом.\n",
    "</span>"
   ]
  },
  {
   "cell_type": "markdown",
   "metadata": {
    "pycharm": {
     "name": "#%% md\n"
    }
   },
   "source": [
    "<span style=\"color:gray\">\n",
    "Банк заинтересован в сохранение клиентов, но только те, кто хранят и пользуются средствами приносят банку вырочку. К тому же выброс не даст модели правильно обучаться.  <br>\n",
    "Я решил выбросить из данных клиентов с нулевым балансом.\n",
    "</span>"
   ]
  },
  {
   "cell_type": "code",
   "execution_count": 259,
   "metadata": {
    "pycharm": {
     "name": "#%%\n"
    }
   },
   "outputs": [],
   "source": [
    "# data = data[data['Balance'] > 0]"
   ]
  },
  {
   "cell_type": "markdown",
   "metadata": {},
   "source": [
    "Чтобы счета с нулвым балансом не выбивались из общей массы, добавим для коррекции новый признак `BalanceIsZero`. Если баланс нулевой - `1`, иначе - `0`"
   ]
  },
  {
   "cell_type": "code",
   "execution_count": 260,
   "metadata": {},
   "outputs": [],
   "source": [
    "data['BalanceIsZero'] = (data['Balance'] == 0).apply(int)"
   ]
  },
  {
   "cell_type": "markdown",
   "metadata": {
    "pycharm": {
     "name": "#%% md\n"
    }
   },
   "source": [
    "## 2 Исследование задачи"
   ]
  },
  {
   "cell_type": "markdown",
   "metadata": {
    "pycharm": {
     "name": "#%% md\n"
    }
   },
   "source": [
    "#### 2.1 Категориальные значение в количественные (создание функции)"
   ]
  },
  {
   "cell_type": "code",
   "execution_count": 261,
   "metadata": {
    "pycharm": {
     "name": "#%%\n"
    }
   },
   "outputs": [],
   "source": [
    "def encoder(features):\n",
    "    categorical_names = ['Geography', 'Gender'] # в категориальные признаки не включим фамилию\n",
    "\n",
    "    ohe = OneHotEncoder(drop='first', handle_unknown='ignore', sparse=False)\n",
    "    # новые категориальные признаки\n",
    "    catergorical_features_ohe = pd.DataFrame(\n",
    "                                        data=ohe.fit_transform(features[categorical_names]), \n",
    "                                        columns=ohe.get_feature_names_out(categorical_names), \n",
    "                                        index=features.index)\n",
    "\n",
    "    features_for_drop = categorical_names + ['RowNumber', 'CustomerId', 'Surname'] # признаки не повлияющие на обучение\n",
    "    features_ohe = catergorical_features_ohe.join(features.drop(features_for_drop, axis=1)) \n",
    "    \n",
    "    return features_ohe"
   ]
  },
  {
   "cell_type": "markdown",
   "metadata": {
    "pycharm": {
     "name": "#%% md\n"
    }
   },
   "source": [
    "#### 2.2 Разделим данные для обучение и тестирования"
   ]
  },
  {
   "cell_type": "code",
   "execution_count": 262,
   "metadata": {
    "pycharm": {
     "name": "#%%\n"
    }
   },
   "outputs": [
    {
     "data": {
      "text/plain": [
       "0    7963\n",
       "1    2037\n",
       "Name: Exited, dtype: int64"
      ]
     },
     "execution_count": 262,
     "metadata": {},
     "output_type": "execute_result"
    }
   ],
   "source": [
    "features = data.drop('Exited', axis=1)\n",
    "target = data['Exited']\n",
    "\n",
    "features_train, features_other, target_train, target_other = train_test_split(features, target, \n",
    "                                                                              test_size=.4, random_state=2023)\n",
    "features_valid, features_test, target_valid, target_test = train_test_split(features_other, target_other, \n",
    "                                                                            test_size=.5, random_state=2023)\n",
    "\n",
    "target.value_counts()"
   ]
  },
  {
   "cell_type": "markdown",
   "metadata": {
    "pycharm": {
     "name": "#%% md\n"
    }
   },
   "source": [
    "Явный дисбаланс. Соотношение отрицательного клсасса к положительному примерно 4:1"
   ]
  },
  {
   "cell_type": "markdown",
   "metadata": {},
   "source": [
    "#### 2.3 Финальное кодирование"
   ]
  },
  {
   "cell_type": "code",
   "execution_count": 263,
   "metadata": {},
   "outputs": [],
   "source": [
    "features_train = encoder(features_train)\n",
    "features_valid = encoder(features_valid)\n",
    "features_test = encoder(features_test)"
   ]
  },
  {
   "cell_type": "markdown",
   "metadata": {
    "pycharm": {
     "name": "#%% md\n"
    }
   },
   "source": [
    "#### 2.4 Подбор модели"
   ]
  },
  {
   "cell_type": "markdown",
   "metadata": {
    "pycharm": {
     "name": "#%% md\n"
    }
   },
   "source": [
    "**Дерево решений**"
   ]
  },
  {
   "cell_type": "code",
   "execution_count": 264,
   "metadata": {
    "pycharm": {
     "name": "#%%\n"
    }
   },
   "outputs": [
    {
     "name": "stdout",
     "output_type": "stream",
     "text": [
      "Best depth: 7\n",
      "Best f1_score: 0.5637181409295352\n"
     ]
    }
   ],
   "source": [
    "def decision_tree(features_train, features_valid, \n",
    "                  target_train, target_valid):\n",
    "    best_depth = 0\n",
    "    best_f1_score = 0\n",
    "\n",
    "    for depth in range(1, 8):\n",
    "        model = DecisionTreeClassifier(max_depth=depth, random_state=2023)\n",
    "        model.fit(features_train, target_train)\n",
    "        predictions_valid = model.predict(features_valid)\n",
    "        score = f1_score(target_valid, predictions_valid)\n",
    "\n",
    "        if score > best_f1_score:\n",
    "            best_depth = depth\n",
    "            best_f1_score = score\n",
    "\n",
    "    print('Best depth:', best_depth)\n",
    "    print('Best f1_score:', best_f1_score)\n",
    "    \n",
    "decision_tree(features_train, features_valid, \n",
    "              target_train, target_valid)"
   ]
  },
  {
   "cell_type": "markdown",
   "metadata": {
    "pycharm": {
     "name": "#%% md\n"
    }
   },
   "source": [
    "**Случайный лес**"
   ]
  },
  {
   "cell_type": "code",
   "execution_count": 265,
   "metadata": {
    "pycharm": {
     "name": "#%%\n"
    }
   },
   "outputs": [
    {
     "name": "stdout",
     "output_type": "stream",
     "text": [
      "Best depth: 7\n",
      "Best amount of tree: 451\n",
      "Best f1_score: 0.5370051635111875\n",
      "CPU times: total: 2min 21s\n",
      "Wall time: 2min 49s\n"
     ]
    }
   ],
   "source": [
    "%%time\n",
    "\n",
    "def random_forest(features_train, features_valid,\n",
    "                  target_train, target_valid):\n",
    "    best_depth = 0\n",
    "    best_est = 0\n",
    "    best_f1_score = 0\n",
    "\n",
    "    for est in range(101, 501, 50):\n",
    "        for depth in range(1, 8):\n",
    "            model = RandomForestClassifier(max_depth=depth, n_estimators=est, random_state=2023)\n",
    "            model.fit(features_train, target_train)\n",
    "            predictions_valid = model.predict(features_valid)\n",
    "            score = f1_score(target_valid, predictions_valid)\n",
    "\n",
    "            if score > best_f1_score:\n",
    "                best_depth = depth\n",
    "                best_est = est\n",
    "                best_f1_score = score\n",
    "\n",
    "    print('Best depth:', best_depth)\n",
    "    print('Best amount of tree:', best_est)\n",
    "    print('Best f1_score:', best_f1_score)\n",
    "    \n",
    "    \n",
    "random_forest(features_train, features_valid, \n",
    "              target_train, target_valid)"
   ]
  },
  {
   "cell_type": "markdown",
   "metadata": {
    "pycharm": {
     "name": "#%% md\n"
    }
   },
   "source": [
    "**Логическая регрессия**"
   ]
  },
  {
   "cell_type": "code",
   "execution_count": 266,
   "metadata": {
    "pycharm": {
     "name": "#%%\n"
    }
   },
   "outputs": [
    {
     "name": "stdout",
     "output_type": "stream",
     "text": [
      "Best iter: <built-in function iter>\n",
      "Best f1_score: 0.09049773755656108\n"
     ]
    }
   ],
   "source": [
    "best_iter = 0\n",
    "best_f1_score = 0\n",
    "\n",
    "for itr in range(100, 1501, 100):\n",
    "    model = LogisticRegression(max_iter=itr, random_state=2023)\n",
    "    model.fit(features_train, target_train)\n",
    "    predictions_valid = model.predict(features_valid)\n",
    "    score = f1_score(target_valid, predictions_valid)\n",
    "\n",
    "    if score > best_f1_score:\n",
    "        best_iter = iter\n",
    "        best_f1_score = score\n",
    "\n",
    "print('Best iter:', best_iter)\n",
    "print('Best f1_score:', best_f1_score)"
   ]
  },
  {
   "cell_type": "markdown",
   "metadata": {
    "pycharm": {
     "name": "#%% md\n"
    }
   },
   "source": [
    "Логическая регрессия хоть и быстра, но не точна `f1_score = 0.09`. У дерева решений `f1_score = 0.56`, что на 5% лучше случайного леса.  \n",
    "Далее устраним дисбаланс классов и снова протестируем дерево и лес."
   ]
  },
  {
   "cell_type": "markdown",
   "metadata": {
    "pycharm": {
     "name": "#%% md\n"
    }
   },
   "source": [
    "## 3 Борьба с дисбалансом"
   ]
  },
  {
   "cell_type": "markdown",
   "metadata": {},
   "source": [
    "**Для начала масштабируем данные**"
   ]
  },
  {
   "cell_type": "code",
   "execution_count": 267,
   "metadata": {},
   "outputs": [],
   "source": [
    "def scaler(features):\n",
    "    # признаки для масштабирования\n",
    "    feature_names = ['CreditScore', 'Balance', 'EstimatedSalary']\n",
    "\n",
    "    scaler = StandardScaler()\n",
    "    scaler.fit(features[feature_names])\n",
    "\n",
    "    features_scaled = pd.DataFrame(scaler.transform(features[feature_names]), \n",
    "                                   columns=feature_names,\n",
    "                                   index=features.index)\n",
    "    features_scaled = features_scaled.join(features.drop(feature_names, axis=1))\n",
    "    return features_scaled"
   ]
  },
  {
   "cell_type": "code",
   "execution_count": 268,
   "metadata": {},
   "outputs": [
    {
     "data": {
      "text/plain": [
       "(6000, 12)"
      ]
     },
     "metadata": {},
     "output_type": "display_data"
    },
    {
     "data": {
      "text/html": [
       "<div>\n",
       "<style scoped>\n",
       "    .dataframe tbody tr th:only-of-type {\n",
       "        vertical-align: middle;\n",
       "    }\n",
       "\n",
       "    .dataframe tbody tr th {\n",
       "        vertical-align: top;\n",
       "    }\n",
       "\n",
       "    .dataframe thead th {\n",
       "        text-align: right;\n",
       "    }\n",
       "</style>\n",
       "<table border=\"1\" class=\"dataframe\">\n",
       "  <thead>\n",
       "    <tr style=\"text-align: right;\">\n",
       "      <th></th>\n",
       "      <th>CreditScore</th>\n",
       "      <th>Balance</th>\n",
       "      <th>EstimatedSalary</th>\n",
       "      <th>Geography_Germany</th>\n",
       "      <th>Geography_Spain</th>\n",
       "      <th>Gender_Male</th>\n",
       "      <th>Age</th>\n",
       "      <th>Tenure</th>\n",
       "      <th>NumOfProducts</th>\n",
       "      <th>HasCrCard</th>\n",
       "      <th>IsActiveMember</th>\n",
       "      <th>BalanceIsZero</th>\n",
       "    </tr>\n",
       "  </thead>\n",
       "  <tbody>\n",
       "    <tr>\n",
       "      <th>2005</th>\n",
       "      <td>1.374489</td>\n",
       "      <td>0.783292</td>\n",
       "      <td>-0.821552</td>\n",
       "      <td>1.0</td>\n",
       "      <td>0.0</td>\n",
       "      <td>0.0</td>\n",
       "      <td>32</td>\n",
       "      <td>3.00000</td>\n",
       "      <td>2</td>\n",
       "      <td>0</td>\n",
       "      <td>1</td>\n",
       "      <td>0</td>\n",
       "    </tr>\n",
       "    <tr>\n",
       "      <th>2822</th>\n",
       "      <td>-0.830825</td>\n",
       "      <td>-1.215556</td>\n",
       "      <td>0.605208</td>\n",
       "      <td>0.0</td>\n",
       "      <td>1.0</td>\n",
       "      <td>0.0</td>\n",
       "      <td>34</td>\n",
       "      <td>4.99769</td>\n",
       "      <td>1</td>\n",
       "      <td>1</td>\n",
       "      <td>0</td>\n",
       "      <td>1</td>\n",
       "    </tr>\n",
       "    <tr>\n",
       "      <th>5851</th>\n",
       "      <td>-0.759356</td>\n",
       "      <td>-1.215556</td>\n",
       "      <td>1.588604</td>\n",
       "      <td>0.0</td>\n",
       "      <td>1.0</td>\n",
       "      <td>1.0</td>\n",
       "      <td>33</td>\n",
       "      <td>3.00000</td>\n",
       "      <td>2</td>\n",
       "      <td>0</td>\n",
       "      <td>1</td>\n",
       "      <td>1</td>\n",
       "    </tr>\n",
       "    <tr>\n",
       "      <th>5877</th>\n",
       "      <td>-1.800755</td>\n",
       "      <td>-1.215556</td>\n",
       "      <td>0.929307</td>\n",
       "      <td>0.0</td>\n",
       "      <td>0.0</td>\n",
       "      <td>1.0</td>\n",
       "      <td>26</td>\n",
       "      <td>6.00000</td>\n",
       "      <td>2</td>\n",
       "      <td>0</td>\n",
       "      <td>0</td>\n",
       "      <td>1</td>\n",
       "    </tr>\n",
       "    <tr>\n",
       "      <th>1977</th>\n",
       "      <td>0.680224</td>\n",
       "      <td>-1.215556</td>\n",
       "      <td>1.319740</td>\n",
       "      <td>0.0</td>\n",
       "      <td>1.0</td>\n",
       "      <td>1.0</td>\n",
       "      <td>35</td>\n",
       "      <td>1.00000</td>\n",
       "      <td>3</td>\n",
       "      <td>0</td>\n",
       "      <td>0</td>\n",
       "      <td>1</td>\n",
       "    </tr>\n",
       "  </tbody>\n",
       "</table>\n",
       "</div>"
      ],
      "text/plain": [
       "      CreditScore   Balance  EstimatedSalary  Geography_Germany  \\\n",
       "2005     1.374489  0.783292        -0.821552                1.0   \n",
       "2822    -0.830825 -1.215556         0.605208                0.0   \n",
       "5851    -0.759356 -1.215556         1.588604                0.0   \n",
       "5877    -1.800755 -1.215556         0.929307                0.0   \n",
       "1977     0.680224 -1.215556         1.319740                0.0   \n",
       "\n",
       "      Geography_Spain  Gender_Male  Age   Tenure  NumOfProducts  HasCrCard  \\\n",
       "2005              0.0          0.0   32  3.00000              2          0   \n",
       "2822              1.0          0.0   34  4.99769              1          1   \n",
       "5851              1.0          1.0   33  3.00000              2          0   \n",
       "5877              0.0          1.0   26  6.00000              2          0   \n",
       "1977              1.0          1.0   35  1.00000              3          0   \n",
       "\n",
       "      IsActiveMember  BalanceIsZero  \n",
       "2005               1              0  \n",
       "2822               0              1  \n",
       "5851               1              1  \n",
       "5877               0              1  \n",
       "1977               0              1  "
      ]
     },
     "execution_count": 268,
     "metadata": {},
     "output_type": "execute_result"
    }
   ],
   "source": [
    "features_train_scaled = scaler(features_train)\n",
    "\n",
    "display(features_train_scaled.shape)\n",
    "features_train_scaled.head()"
   ]
  },
  {
   "cell_type": "markdown",
   "metadata": {
    "pycharm": {
     "name": "#%% md\n"
    }
   },
   "source": [
    "#### 3.1 Upsampling"
   ]
  },
  {
   "cell_type": "code",
   "execution_count": 269,
   "metadata": {},
   "outputs": [],
   "source": [
    "def upsampling(features, target, repeat):\n",
    "    # разабьем данные по отрицательным и положительным значениям таргета\n",
    "    features_zero = features[target == 0]\n",
    "    features_one = features[target == 1]\n",
    "    \n",
    "    target_zero = target[target == 0]\n",
    "    target_one = target[target == 1]\n",
    "\n",
    "    # восстановим баланс\n",
    "    target_upsampled = shuffle(\n",
    "                            pd.concat([target_zero] + [target_one]*repeat),\n",
    "                            random_state=2023)\n",
    "    features_upsampled = shuffle(\n",
    "                            pd.concat([features_zero] + [features_one]*repeat),\n",
    "                            random_state=2023)\n",
    "    \n",
    "    return features_upsampled, target_upsampled"
   ]
  },
  {
   "cell_type": "code",
   "execution_count": 270,
   "metadata": {},
   "outputs": [
    {
     "data": {
      "text/plain": [
       "1    4880\n",
       "0    4780\n",
       "Name: Exited, dtype: int64"
      ]
     },
     "execution_count": 270,
     "metadata": {},
     "output_type": "execute_result"
    }
   ],
   "source": [
    "repeat = 4\n",
    "features_train_up, target_train_up = upsampling(features_train, target_train, repeat)\n",
    "\n",
    "target_train_up.value_counts()"
   ]
  },
  {
   "cell_type": "markdown",
   "metadata": {
    "pycharm": {
     "name": "#%% md\n"
    }
   },
   "source": [
    "**Дерево Решений**"
   ]
  },
  {
   "cell_type": "code",
   "execution_count": 271,
   "metadata": {
    "pycharm": {
     "name": "#%%\n"
    }
   },
   "outputs": [
    {
     "name": "stdout",
     "output_type": "stream",
     "text": [
      "Best depth: 5\n",
      "Best f1_score: 0.547842401500938\n"
     ]
    }
   ],
   "source": [
    "decision_tree(features_train_up, features_valid, \n",
    "              target_train_up, target_valid)"
   ]
  },
  {
   "cell_type": "markdown",
   "metadata": {
    "pycharm": {
     "name": "#%% md\n"
    }
   },
   "source": [
    "**Случайный лес**"
   ]
  },
  {
   "cell_type": "code",
   "execution_count": 272,
   "metadata": {
    "pycharm": {
     "name": "#%%\n"
    },
    "scrolled": true
   },
   "outputs": [
    {
     "name": "stdout",
     "output_type": "stream",
     "text": [
      "Best depth: 7\n",
      "Best amount of tree: 151\n",
      "Best f1_score: 0.5923566878980892\n",
      "CPU times: total: 2min 54s\n",
      "Wall time: 3min 20s\n"
     ]
    }
   ],
   "source": [
    "%%time\n",
    "\n",
    "random_forest(features_train_up, features_valid, \n",
    "              target_train_up, target_valid)"
   ]
  },
  {
   "cell_type": "markdown",
   "metadata": {
    "pycharm": {
     "name": "#%% md\n"
    }
   },
   "source": [
    "f1-мера DT упала на 3%, RF выросла на 9%."
   ]
  },
  {
   "cell_type": "markdown",
   "metadata": {
    "pycharm": {
     "name": "#%% md\n"
    }
   },
   "source": [
    "#### 3.2 Downsampling"
   ]
  },
  {
   "cell_type": "code",
   "execution_count": 273,
   "metadata": {},
   "outputs": [],
   "source": [
    "def downsampling(features, target, fraction):\n",
    "    # разабьем данные по отрицательным и положительным значениям таргета\n",
    "    features_zero = features[target == 0]\n",
    "    features_one = features[target == 1]\n",
    "    \n",
    "    target_zero = target[target == 0]\n",
    "    target_one = target[target == 1]\n",
    "\n",
    "    # восстановим баланс\n",
    "    target_downsampled = shuffle(\n",
    "                                pd.concat([target_one] + [target_zero.sample(frac=fraction, random_state=2023)]),\n",
    "                                random_state=2023)\n",
    "    features_downsampled = shuffle(\n",
    "                                pd.concat([features_one] + [features_zero.sample(frac=fraction, random_state=2023)]),\n",
    "                                random_state=2023)\n",
    "    \n",
    "    return features_downsampled, target_downsampled"
   ]
  },
  {
   "cell_type": "code",
   "execution_count": 274,
   "metadata": {},
   "outputs": [
    {
     "data": {
      "text/plain": [
       "0    1291\n",
       "1    1220\n",
       "Name: Exited, dtype: int64"
      ]
     },
     "execution_count": 274,
     "metadata": {},
     "output_type": "execute_result"
    }
   ],
   "source": [
    "fraction = .27\n",
    "features_train_down, target_train_down = downsampling(features_train, target_train, fraction)\n",
    "\n",
    "target_train_down.value_counts()"
   ]
  },
  {
   "cell_type": "markdown",
   "metadata": {
    "pycharm": {
     "name": "#%% md\n"
    }
   },
   "source": [
    "**Дерево решений**"
   ]
  },
  {
   "cell_type": "code",
   "execution_count": 275,
   "metadata": {
    "pycharm": {
     "name": "#%%\n"
    },
    "scrolled": true
   },
   "outputs": [
    {
     "name": "stdout",
     "output_type": "stream",
     "text": [
      "Best depth: 6\n",
      "Best f1_score: 0.5470417070805044\n"
     ]
    }
   ],
   "source": [
    "decision_tree(features_train_down, features_valid, \n",
    "              target_train_down, target_valid)"
   ]
  },
  {
   "cell_type": "markdown",
   "metadata": {
    "pycharm": {
     "name": "#%% md\n"
    }
   },
   "source": [
    "**Случайный лес**"
   ]
  },
  {
   "cell_type": "code",
   "execution_count": 276,
   "metadata": {
    "pycharm": {
     "name": "#%%\n"
    }
   },
   "outputs": [
    {
     "name": "stdout",
     "output_type": "stream",
     "text": [
      "Best depth: 5\n",
      "Best amount of tree: 201\n",
      "Best f1_score: 0.5813715455475946\n",
      "CPU times: total: 1min 27s\n",
      "Wall time: 1min 37s\n"
     ]
    }
   ],
   "source": [
    "%%time\n",
    "\n",
    "random_forest(features_train_down, features_valid,\n",
    "              target_train_down, target_valid)"
   ]
  },
  {
   "cell_type": "markdown",
   "metadata": {
    "pycharm": {
     "name": "#%% md\n"
    }
   },
   "source": [
    "После устранения дисбаланса случайный лес показал лучшее значение метрики в обоих эксперементах. Протестируем модель RF с наилучшими параметрами с применением метода upsampling."
   ]
  },
  {
   "cell_type": "markdown",
   "metadata": {
    "pycharm": {
     "name": "#%% md\n"
    }
   },
   "source": [
    "## 4 Тестирование модели"
   ]
  },
  {
   "cell_type": "markdown",
   "metadata": {
    "pycharm": {
     "name": "#%% md\n"
    }
   },
   "source": [
    "Лучший результат показала модель случайного леса с глубиной 7 и с 151 деревьями."
   ]
  },
  {
   "cell_type": "code",
   "execution_count": 282,
   "metadata": {
    "pycharm": {
     "name": "#%%\n"
    }
   },
   "outputs": [
    {
     "name": "stdout",
     "output_type": "stream",
     "text": [
      "0.6167487684729064\n"
     ]
    }
   ],
   "source": [
    "model = RandomForestClassifier(max_depth=7, n_estimators=151, random_state=2023)\n",
    "model.fit(features_train_up, target_train_up)\n",
    "\n",
    "predictions_test = model.predict(features_test)\n",
    "score = f1_score(target_test, predictions_test)\n",
    "\n",
    "print(score)"
   ]
  },
  {
   "cell_type": "markdown",
   "metadata": {
    "pycharm": {
     "name": "#%% md\n"
    }
   },
   "source": [
    "Удалось достичь `f1-score = 0.62`, что выше установленной границы 0.59."
   ]
  },
  {
   "cell_type": "markdown",
   "metadata": {
    "pycharm": {
     "name": "#%% md\n"
    }
   },
   "source": [
    "####  Дополнительно: метрикa `AUC-ROC`"
   ]
  },
  {
   "cell_type": "code",
   "execution_count": 278,
   "metadata": {
    "pycharm": {
     "name": "#%%\n"
    }
   },
   "outputs": [
    {
     "data": {
      "image/png": "[encoded data removed]",
      "text/plain": [
       "<Figure size 640x480 with 1 Axes>"
      ]
     },
     "metadata": {},
     "output_type": "display_data"
    }
   ],
   "source": [
    "probabilities = model.predict_proba(features_test)\n",
    "probabilities_one = probabilities[:, 1]\n",
    "\n",
    "fpr, tpr, thresholds = roc_curve(target_test, probabilities_one)\n",
    "score = roc_auc_score(target_test, probabilities_one)\n",
    "\n",
    "plt.plot([0, 1], [0, 1], '--', label='static model (area = 0.5)')\n",
    "plt.plot(fpr, tpr, label=f'random forеst (area ={score:.2f})')\n",
    "\n",
    "plt.title('The ROC curve')\n",
    "plt.xlabel('False Positive Rate')\n",
    "plt.ylabel('True Positive Rate')\n",
    "plt.legend(loc=\"lower right\");"
   ]
  },
  {
   "cell_type": "markdown",
   "metadata": {
    "pycharm": {
     "name": "#%% md\n"
    }
   },
   "source": [
    "`roc_auc_score = 0.86` высокий показатель. Модель способна хорошо распознавать положительный класс и редко выдавать отрицательный за положительный."
   ]
  },
  {
   "cell_type": "markdown",
   "metadata": {
    "pycharm": {
     "name": "#%% md\n"
    }
   },
   "source": [
    "---"
   ]
  },
  {
   "cell_type": "code",
   "execution_count": 279,
   "metadata": {
    "pycharm": {
     "name": "#%%\n"
    }
   },
   "outputs": [
    {
     "data": {
      "text/plain": [
       "0.808"
      ]
     },
     "execution_count": 279,
     "metadata": {},
     "output_type": "execute_result"
    }
   ],
   "source": [
    "accuracy_score(target_test, predictions_test)"
   ]
  }
 ],
 "metadata": {
  "kernelspec": {
   "display_name": "Python 3 (ipykernel)",
   "language": "python",
   "name": "python3"
  },
  "language_info": {
   "codemirror_mode": {
    "name": "ipython",
    "version": 3
   },
   "file_extension": ".py",
   "mimetype": "text/x-python",
   "name": "python",
   "nbconvert_exporter": "python",
   "pygments_lexer": "ipython3",
   "version": "3.10.2"
  },
  "toc": {
   "base_numbering": 1,
   "nav_menu": {},
   "number_sections": true,
   "sideBar": true,
   "skip_h1_title": true,
   "title_cell": "Содержание",
   "title_sidebar": "Contents",
   "toc_cell": true,
   "toc_position": {},
   "toc_section_display": true,
   "toc_window_display": false
  }
 },
 "nbformat": 4,
 "nbformat_minor": 2
}
